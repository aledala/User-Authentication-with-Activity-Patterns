{
 "cells": [
  {
   "cell_type": "code",
   "execution_count": 121,
   "metadata": {},
   "outputs": [],
   "source": [
    "from sklearn import ensemble\n",
    "from sklearn.tree import DecisionTreeClassifier\n",
    "import sys\n",
    "import numpy as np\n",
    "from sklearn import preprocessing\n",
    "import pandas as pd\n",
    "from sklearn.metrics import accuracy_score\n",
    "from matplotlib import pyplot as plt"
   ]
  },
  {
   "cell_type": "code",
   "execution_count": 122,
   "metadata": {},
   "outputs": [],
   "source": [
    "x_train = np.genfromtxt( 'C:/Users/JUNIA/Desktop/Documents/DM/Project/X_train.csv' ,delimiter=',', dtype=float,skip_header=1, usecols=range(1,14));"
   ]
  },
  {
   "cell_type": "code",
   "execution_count": 123,
   "metadata": {},
   "outputs": [],
   "source": [
    "y_train = np.genfromtxt( 'C:/Users/JUNIA/Desktop/Documents/DM/Project/X_train.csv' ,delimiter=',', dtype=float,skip_header=1, usecols=range(14,15));"
   ]
  },
  {
   "cell_type": "code",
   "execution_count": 124,
   "metadata": {},
   "outputs": [],
   "source": [
    "x_test = np.genfromtxt( 'C:/Users/JUNIA/Desktop/Documents/DM/Project/X_test.csv' ,delimiter=',', dtype=float,skip_header=1, usecols=range(1,14));"
   ]
  },
  {
   "cell_type": "code",
   "execution_count": 125,
   "metadata": {},
   "outputs": [],
   "source": [
    "y_test = np.genfromtxt( 'C:/Users/JUNIA/Desktop/Documents/DM/Project/X_test.csv' ,delimiter=',', dtype=float,skip_header=1, usecols=range(14,15));"
   ]
  },
  {
   "cell_type": "markdown",
   "metadata": {},
   "source": [
    "## Random Forests"
   ]
  },
  {
   "cell_type": "code",
   "execution_count": 126,
   "metadata": {},
   "outputs": [
    {
     "name": "stdout",
     "output_type": "stream",
     "text": [
      "[ 1.  2. 14. 19. 14.  6.  7.  8.  9.  8. 11. 12.  7. 14. 15. 16. 17. 34.\n",
      "  4. 20. 21. 22. 23. 24. 25.  3. 27. 28. 29. 30. 31. 32. 33. 18. 35.]\n",
      "Linear classifier accuracy = 0.7429\n"
     ]
    }
   ],
   "source": [
    "numBaseClassifiers = 500\n",
    "maxdepth = 10\n",
    "trainAcc = []\n",
    "testAcc = []\n",
    "\n",
    "clf = ensemble.RandomForestClassifier(n_estimators=numBaseClassifiers)\n",
    "clf.fit(x_train, y_train)\n",
    "Y_predTrain = clf.predict(x_train)\n",
    "Y_predTest = clf.predict(x_test)\n",
    "trainAcc.append(accuracy_score(y_train, Y_predTrain))\n",
    "testAcc.append(accuracy_score(y_test, Y_predTest))\n",
    "print(Y_predTest)\n",
    "print('Linear classifier accuracy = %.4f' % (accuracy_score(y_test, Y_predTest)))"
   ]
  },
  {
   "cell_type": "markdown",
   "metadata": {},
   "source": [
    "## Bagging"
   ]
  },
  {
   "cell_type": "code",
   "execution_count": 127,
   "metadata": {},
   "outputs": [
    {
     "name": "stdout",
     "output_type": "stream",
     "text": [
      "[ 1.  2. 14. 19. 14. 30.  7.  8.  9.  8. 26. 12. 12. 14. 15. 16. 17. 34.\n",
      " 19. 20. 21. 22. 23. 24. 25. 14. 27. 28. 29. 30. 31. 22. 33. 18. 35.]\n",
      "Linear classifier accuracy = 0.6857\n"
     ]
    }
   ],
   "source": [
    "numBaseClassifiers = 500\n",
    "maxdepth = 10\n",
    "\n",
    "\n",
    "clf = ensemble.BaggingClassifier(DecisionTreeClassifier(max_depth=maxdepth),n_estimators=numBaseClassifiers)\n",
    "clf.fit(x_train, y_train)\n",
    "Y_predTrain = clf.predict(x_train)\n",
    "Y_predTest = clf.predict(x_test)\n",
    "trainAcc.append(accuracy_score(y_train, Y_predTrain))\n",
    "testAcc.append(accuracy_score(y_test, Y_predTest))\n",
    "print(Y_predTest)\n",
    "print('Linear classifier accuracy = %.4f' % (accuracy_score(y_test, Y_predTest)))"
   ]
  },
  {
   "cell_type": "markdown",
   "metadata": {},
   "source": [
    "## Adaboost"
   ]
  },
  {
   "cell_type": "code",
   "execution_count": 128,
   "metadata": {},
   "outputs": [
    {
     "name": "stdout",
     "output_type": "stream",
     "text": [
      "[ 1.  2. 14. 19. 14.  6.  7.  8.  9.  8. 11. 12. 12. 14. 15. 16. 17. 34.\n",
      " 19. 20. 21. 22. 16. 24. 25.  3. 27. 28. 29. 30. 31. 32. 33. 18. 35.]\n",
      "Linear classifier accuracy = 0.7429\n"
     ]
    }
   ],
   "source": [
    "numBaseClassifiers = 500\n",
    "maxdepth = 10\n",
    "\n",
    "clf = ensemble.AdaBoostClassifier(DecisionTreeClassifier(max_depth=maxdepth),n_estimators=numBaseClassifiers)\n",
    "clf.fit(x_train, y_train)\n",
    "Y_predTrain = clf.predict(x_train)\n",
    "Y_predTest = clf.predict(x_test)\n",
    "trainAcc.append(accuracy_score(y_train, Y_predTrain))\n",
    "testAcc.append(accuracy_score(y_test, Y_predTest))\n",
    "print(Y_predTest)\n",
    "print('Linear classifier accuracy = %.4f' % (accuracy_score(y_test, Y_predTest)))"
   ]
  },
  {
   "cell_type": "code",
   "execution_count": 129,
   "metadata": {},
   "outputs": [
    {
     "data": {
      "text/plain": [
       "[0.7428571428571429, 0.6857142857142857, 0.7428571428571429]"
      ]
     },
     "execution_count": 129,
     "metadata": {},
     "output_type": "execute_result"
    }
   ],
   "source": [
    "testAcc"
   ]
  },
  {
   "cell_type": "markdown",
   "metadata": {},
   "source": [
    "## Test Accuracies"
   ]
  },
  {
   "cell_type": "code",
   "execution_count": 130,
   "metadata": {},
   "outputs": [
    {
     "data": {
      "text/plain": [
       "<BarContainer object of 3 artists>"
      ]
     },
     "execution_count": 130,
     "metadata": {},
     "output_type": "execute_result"
    },
    {
     "data": {
      "image/png": "[encoded data removed]",
      "text/plain": [
       "<Figure size 432x288 with 1 Axes>"
      ]
     },
     "metadata": {},
     "output_type": "display_data"
    }
   ],
   "source": [
    "import matplotlib.pyplot as plt\n",
    "%matplotlib inline\n",
    "\n",
    "methods = ['Naive Bayes', 'Bagging', 'AdaBoost']\n",
    "plt.bar(methods, testAcc)"
   ]
  },
  {
   "cell_type": "markdown",
   "metadata": {},
   "source": [
    "## Training & Test Accuracies"
   ]
  },
  {
   "cell_type": "code",
   "execution_count": 131,
   "metadata": {},
   "outputs": [
    {
     "data": {
      "text/plain": [
       "[Text(0,0,'Random Forest'), Text(0,0,'Bagging'), Text(0,0,'AdaBoost')]"
      ]
     },
     "execution_count": 131,
     "metadata": {},
     "output_type": "execute_result"
    },
    {
     "data": {
      "image/png": "[encoded data removed]",
      "text/plain": [
       "<Figure size 864x432 with 2 Axes>"
      ]
     },
     "metadata": {},
     "output_type": "display_data"
    }
   ],
   "source": [
    "methods = ['Random Forest', 'Bagging', 'AdaBoost']\n",
    "fig, (ax1, ax2) = plt.subplots(1, 2, figsize=(12,6))\n",
    "ax1.bar([1.5,2.5,3.5], trainAcc)\n",
    "ax1.set_xticks([1.5,2.5,3.5])\n",
    "ax1.set_xticklabels(methods)\n",
    "ax2.bar([1.5,2.5,3.5], testAcc)\n",
    "ax2.set_xticks([1.5,2.5,3.5])\n",
    "ax2.set_xticklabels(methods)"
   ]
  },
  {
   "cell_type": "code",
   "execution_count": null,
   "metadata": {},
   "outputs": [],
   "source": []
  }
 ],
 "metadata": {
  "kernelspec": {
   "display_name": "Python 3",
   "language": "python",
   "name": "python3"
  },
  "language_info": {
   "codemirror_mode": {
    "name": "ipython",
    "version": 3
   },
   "file_extension": ".py",
   "mimetype": "text/x-python",
   "name": "python",
   "nbconvert_exporter": "python",
   "pygments_lexer": "ipython3",
   "version": "3.6.5"
  }
 },
 "nbformat": 4,
 "nbformat_minor": 2
}
