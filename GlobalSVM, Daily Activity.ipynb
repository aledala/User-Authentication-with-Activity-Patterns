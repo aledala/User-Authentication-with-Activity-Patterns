{
 "cells": [
  {
   "cell_type": "code",
   "execution_count": 2,
   "metadata": {},
   "outputs": [],
   "source": [
    "import sys\n",
    "import numpy as np\n",
    "import argparse\n",
    "from sklearn import preprocessing\n",
    "import pandas as pd\n",
    "from sklearn.svm import SVC\n",
    "from sklearn.metrics import accuracy_score"
   ]
  },
  {
   "cell_type": "code",
   "execution_count": 3,
   "metadata": {},
   "outputs": [],
   "source": [
    "#data = np.genfromtxt( 'C:/Users/JUNIA/Desktop/Documents/DM/Project/daily_activity_normalized.csv' ,delimiter=',', dtype=float,skip_header=1, usecols=range(1,14));"
   ]
  },
  {
   "cell_type": "code",
   "execution_count": 95,
   "metadata": {},
   "outputs": [],
   "source": [
    "# data = np.genfromtxt( 'C:/Users/JUNIA/Desktop/Documents/DM/Project/dailyActivity_merged_main.csv' ,delimiter=',', dtype=float,skip_header=1, usecols=range(1,14));\n",
    "# min_max_scaler = preprocessing.MinMaxScaler();\n",
    "# x_scaled = min_max_scaler.fit_transform(data);\n",
    "# x_scaled"
   ]
  },
  {
   "cell_type": "code",
   "execution_count": 41,
   "metadata": {},
   "outputs": [],
   "source": [
    "x = np.genfromtxt( 'C:/Users/JUNIA/Desktop/Documents/DM/Project/daily_activity_normalized.csv' ,delimiter=',', dtype=float,skip_header=1, usecols=range(1,14));"
   ]
  },
  {
   "cell_type": "code",
   "execution_count": 42,
   "metadata": {},
   "outputs": [],
   "source": [
    "y = np.genfromtxt( 'C:/Users/JUNIA/Desktop/Documents/DM/Project/daily_activity_normalized.csv' ,delimiter=',', dtype=float,skip_header=1, usecols=range(14,15));"
   ]
  },
  {
   "cell_type": "code",
   "execution_count": 8,
   "metadata": {},
   "outputs": [],
   "source": [
    "x_train = np.genfromtxt( 'C:/Users/JUNIA/Desktop/Documents/DM/Project/X_train.csv' ,delimiter=',', dtype=float,skip_header=1, usecols=range(1,14));"
   ]
  },
  {
   "cell_type": "code",
   "execution_count": 4,
   "metadata": {},
   "outputs": [],
   "source": [
    "y_train = np.genfromtxt( 'C:/Users/JUNIA/Desktop/Documents/DM/Project/X_train.csv' ,delimiter=',', dtype=float,skip_header=1, usecols=range(14,15));"
   ]
  },
  {
   "cell_type": "code",
   "execution_count": 5,
   "metadata": {},
   "outputs": [],
   "source": [
    "x_test = np.genfromtxt( 'C:/Users/JUNIA/Desktop/Documents/DM/Project/X_test.csv' ,delimiter=',', dtype=float,skip_header=1, usecols=range(1,14));"
   ]
  },
  {
   "cell_type": "code",
   "execution_count": 6,
   "metadata": {},
   "outputs": [],
   "source": [
    "y_test = np.genfromtxt( 'C:/Users/JUNIA/Desktop/Documents/DM/Project/X_test.csv' ,delimiter=',', dtype=float,skip_header=1, usecols=range(14,15));"
   ]
  },
  {
   "cell_type": "code",
   "execution_count": 78,
   "metadata": {},
   "outputs": [],
   "source": [
    "#X_TRAIN = pd.DataFrame(x_train);\n",
    "#X_TEST = pd.DataFrame(x_test);\n",
    "#Y_TRAIN= pd.DataFrame(y_train);\n",
    "#Y_TEST= pd.DataFrame(y_test);"
   ]
  },
  {
   "cell_type": "code",
   "execution_count": 46,
   "metadata": {},
   "outputs": [
    {
     "name": "stdout",
     "output_type": "stream",
     "text": [
      "C = 0.001 (acc = 0.0451)\n",
      "C = 0.005 (acc = 0.0451)\n",
      "C = 0.010 (acc = 0.0451)\n",
      "C = 0.050 (acc = 0.0458)\n",
      "C = 0.100 (acc = 0.0965)\n",
      "C = 0.200 (acc = 0.1643)\n",
      "C = 0.500 (acc = 0.3053)\n",
      "C = 1.000 (acc = 0.3474)\n",
      "C = 10.000 (acc = 0.4798)\n",
      "C = 50.000 (acc = 0.5917)\n",
      "Best parameter = 50.000\n",
      "Best accuracy = 0.592\n"
     ]
    }
   ],
   "source": [
    "from sklearn.model_selection import cross_validate\n",
    "from sklearn.svm import SVC\n",
    "import numpy as np\n",
    "\n",
    "C = [0.001, 0.005, 0.01, 0.05, 0.1, 0.2, 0.5, 1, 10, 50]\n",
    "bestparam = -1\n",
    "bestacc = -1\n",
    "validacc = []\n",
    "\n",
    "for c_param in C:\n",
    "    clf = SVC(C=c_param,kernel='linear')\n",
    "    cv_results = cross_validate(clf, x, y, scoring='accuracy',cv=3,return_train_score=False)\n",
    "    acc = np.mean(cv_results['test_score'])\n",
    "    print('C = %.3f (acc = %.4f)' % (c_param, acc))\n",
    "    validacc.append(acc)\n",
    "    if acc > bestacc:\n",
    "        bestacc = acc\n",
    "        bestparam = c_param\n",
    "        \n",
    "print('Best parameter = %.3f' % bestparam)\n",
    "print('Best accuracy = %.3f' % bestacc)\n",
    "#print(cv_results)"
   ]
  },
  {
   "cell_type": "code",
   "execution_count": 47,
   "metadata": {},
   "outputs": [
    {
     "name": "stdout",
     "output_type": "stream",
     "text": [
      "[ 1.  2. 18. 19.  5.  6.  7.  4.  9.  4.  5. 12.  7. 14. 15. 16. 15. 18.\n",
      "  8. 20. 21. 22. 23. 24. 15. 26. 27. 28. 29. 30.  4. 32.  5. 34. 35.]\n",
      "Linear classifier accuracy = 0.6857\n"
     ]
    }
   ],
   "source": [
    "from sklearn.metrics import accuracy_score, confusion_matrix\n",
    "from matplotlib import pyplot as plt\n",
    "\n",
    "clf = SVC(C=50,kernel='linear')\n",
    "clf.fit(x_train, y_train)\n",
    "y_predicted = clf.predict(x_test)\n",
    "print(y_predicted)\n",
    "\n",
    "print('Linear classifier accuracy = %.4f' % (accuracy_score(y_test, y_predicted)))\n",
    "#conf = pd.DataFrame(confusion_matrix(Y_TEST,y_predicted))\n",
    "#conf\n",
    "#plt.scatter(y_predicted, Y_TEST, 'r')"
   ]
  },
  {
   "cell_type": "code",
   "execution_count": null,
   "metadata": {},
   "outputs": [],
   "source": []
  }
 ],
 "metadata": {
  "kernelspec": {
   "display_name": "Python 3",
   "language": "python",
   "name": "python3"
  },
  "language_info": {
   "codemirror_mode": {
    "name": "ipython",
    "version": 3
   },
   "file_extension": ".py",
   "mimetype": "text/x-python",
   "name": "python",
   "nbconvert_exporter": "python",
   "pygments_lexer": "ipython3",
   "version": "3.6.5"
  }
 },
 "nbformat": 4,
 "nbformat_minor": 2
}
